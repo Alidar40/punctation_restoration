{
 "cells": [
  {
   "cell_type": "code",
   "execution_count": 1,
   "id": "c051c58a-1e6f-488a-817d-d36320af5ab4",
   "metadata": {},
   "outputs": [],
   "source": [
    "import re\n",
    "\n",
    "import pytorch_lightning as pl\n",
    "from torch.utils.data import Dataset, DataLoader\n",
    "\n",
    "from models.model_definition import get_model, get_tokenizer\n",
    "from models.lit_punctuator import LitPunctuator\n",
    "from models.lit_two_head import LitTwoHead\n",
    "from data_processing.lentaset import LentaSet\n",
    "%load_ext autoreload\n",
    "%autoreload 2\n",
    "from config import config, char2label\n",
    "from utils.initialization import seed_everything"
   ]
  },
  {
   "cell_type": "code",
   "execution_count": 2,
   "id": "508d312a-240f-4c45-9922-5615d76bacdd",
   "metadata": {},
   "outputs": [
    {
     "data": {
      "text/plain": [
       "{'dataset_path': '/home/alidar/MIPT/datasets/lenta-ru-news.csv',\n",
       " 'sequence_len': 256,\n",
       " 'dev_mode': True,\n",
       " 'chunk_size': 50000,\n",
       " 'accelerator': 'gpu',\n",
       " 'model': 'two_head',\n",
       " 'encoder': 'cointegrated/rubert-tiny2',\n",
       " 'use_crf': True,\n",
       " 'augment_rate': 0.3,\n",
       " 'ckpt_path': '/home/alidar/MIPT/punctation_restoration/checkpoints/1pgs7z8i/last.ckpt',\n",
       " 'continue_from_ckpt': False,\n",
       " 'epochs': 50,\n",
       " 'batch_size': 64,\n",
       " 'num_workers': 1,\n",
       " 'log_every_n_step': 10,\n",
       " 'val_check_interval': 1.0,\n",
       " 'wandb': {'project': 'punctuation_restoration',\n",
       "  'name': 'two_head_crf',\n",
       "  'mode': 'online'},\n",
       " 'seed': 42}"
      ]
     },
     "execution_count": 2,
     "metadata": {},
     "output_type": "execute_result"
    }
   ],
   "source": [
    "# config"
   ]
  },
  {
   "cell_type": "code",
   "execution_count": 3,
   "id": "01efbce2-66e5-4118-bb4a-59047ab558cf",
   "metadata": {},
   "outputs": [],
   "source": [
    "SEED = config[\"seed\"]\n",
    "MODEL = config[\"model\"]\n",
    "USE_CRF = config[\"use_crf\"]\n",
    "ENCODER = config[\"encoder\"]\n",
    "DATASET_PATH = config[\"dataset_path\"]\n",
    "SEQUENCE_LEN = config[\"sequence_len\"]\n",
    "AUGMENT_RATE = config[\"augment_rate\"]\n",
    "BATCH_SIZE = config[\"batch_size\"]\n",
    "NUM_WORKERS = config[\"num_workers\"]\n",
    "DEV_MODE = config[\"dev_mode\"]\n",
    "CHUNK_SIZE = config[\"chunk_size\"]\n",
    "CKPT_PATH = config[\"ckpt_path\"]"
   ]
  },
  {
   "cell_type": "code",
   "execution_count": 4,
   "id": "f89bdb05-5faa-449a-9bf3-558d74233b4f",
   "metadata": {},
   "outputs": [
    {
     "name": "stderr",
     "output_type": "stream",
     "text": [
      "Global seed set to 42\n",
      "Some weights of the model checkpoint at cointegrated/rubert-tiny2 were not used when initializing BertModel: ['cls.predictions.transform.dense.bias', 'cls.seq_relationship.weight', 'cls.predictions.transform.dense.weight', 'cls.predictions.decoder.bias', 'cls.predictions.decoder.weight', 'cls.predictions.transform.LayerNorm.bias', 'cls.seq_relationship.bias', 'cls.predictions.bias', 'cls.predictions.transform.LayerNorm.weight']\n",
      "- This IS expected if you are initializing BertModel from the checkpoint of a model trained on another task or with another architecture (e.g. initializing a BertForSequenceClassification model from a BertForPreTraining model).\n",
      "- This IS NOT expected if you are initializing BertModel from the checkpoint of a model that you expect to be exactly identical (initializing a BertForSequenceClassification model from a BertForSequenceClassification model).\n"
     ]
    }
   ],
   "source": [
    "seed_everything(SEED)\n",
    "model = None\n",
    "model, is_two_head = get_model(MODEL, ENCODER, USE_CRF)\n",
    "tokenizer = get_tokenizer(ENCODER)\n",
    "if is_two_head:\n",
    "    lit_model = LitTwoHead(model, tokenizer, USE_CRF)\n",
    "else:\n",
    "    lit_model = LitPunctuator(model, tokenizer, USE_CRF)"
   ]
  },
  {
   "cell_type": "code",
   "execution_count": 5,
   "id": "0a9f3847-1709-479c-87f7-d63cb2974bc6",
   "metadata": {},
   "outputs": [
    {
     "name": "stderr",
     "output_type": "stream",
     "text": [
      "/home/alidar/MIPT/punctation_restoration/venv/lib/python3.8/site-packages/pytorch_lightning/loops/utilities.py:91: PossibleUserWarning: `max_epochs` was not set. Setting it to 1000 epochs. To train without an epoch limit, set `max_epochs=-1`.\n",
      "  rank_zero_warn(\n",
      "GPU available: True, used: False\n",
      "TPU available: False, using: 0 TPU cores\n",
      "IPU available: False, using: 0 IPUs\n",
      "HPU available: False, using: 0 HPUs\n",
      "/home/alidar/MIPT/punctation_restoration/venv/lib/python3.8/site-packages/pytorch_lightning/trainer/trainer.py:1812: PossibleUserWarning: GPU available but not used. Set `accelerator` and `devices` using `Trainer(accelerator='gpu', devices=1)`.\n",
      "  rank_zero_warn(\n"
     ]
    }
   ],
   "source": [
    "trainer = pl.Trainer(gpus=0, accelerator=\"cpu\", devices=1,)"
   ]
  },
  {
   "cell_type": "code",
   "execution_count": 6,
   "id": "47050ca1-e5d8-4169-b665-1d5801703026",
   "metadata": {},
   "outputs": [],
   "source": [
    "text = \"\"\"\n",
    "Епархия была образована 2 ноября 1949 года путем выделения в новую епархию некоторых приходских округов из епархий Сантандера, Витории и Калаорры — Ла-Кальсады. Латинское название епархии — Dioecesis Flaviobrigensis было присвоено епархии в булле папы Пия XII Quo Commodius, которой он учреждал епархию. Вероятно, оно связано с предположением, что римское поселение «Colonia Flaviobrigensium» находилось на месте современного Бильбао, что однако ныне считается маловероятным.\n",
    "\"\"\""
   ]
  },
  {
   "cell_type": "code",
   "execution_count": 7,
   "id": "779cfeee-aece-40a2-8e69-ec687eacffd2",
   "metadata": {},
   "outputs": [],
   "source": [
    "text = \"\"\"\n",
    "Активно занимался спортом. Был кандидатом в мастера спорта по лыжному спорту и лёгкой атлетике и первый разряд по футболу и хоккею. Затем увлёкся борьбой. Становился победителем и призёром многих республиканских, ведомственных и всероссийский соревнований. В 1967 году выполнил норматив мастера спорта СССР по самбо. В 1968 году стал серебряным призёром чемпионата Татарской АССР по вольной борьбе и бронзовым призёром чемпионата России по борьбе куреш. В 1971 году стал мастером спорта по дзюдо. В 1975—1977 годах признавался лучшим тренером Татарской АССР. В 1983 году ему было присвоено звание Заслуженного тренера РСФСР, а в 1994 году — звание Заслуженного работника физической культуры республики Татарстан. В 2004 году стал чемпионом России и Европы по дзюдо среди ветеранов и бронзовым призёром чемпионата мира по дзюдо среди ветеранов. Тогда же ему было присвоено звание мастера спорта России международного класса. \n",
    "\"\"\""
   ]
  },
  {
   "cell_type": "code",
   "execution_count": 10,
   "id": "77e52a04-100d-458c-89f2-67259fff086c",
   "metadata": {},
   "outputs": [],
   "source": [
    "text = \"\"\"\n",
    "Шпажник, или Гладиóлус (лат. Gladíolus) — род многолетних клубнелуковичных растений семейства Ирисовые (Iridaceae). Латинское (и русское тоже) название произошло от лат. gladius — «меч» и связано с тем, что листья гладиолуса по форме напоминают шпаги. Природный ареал — тропические и субтропические районы Африки, Средиземноморья, Средние Европа и Азия, Западная Сибирь. Род включает около 280 видов, из которых 163 происходят из южной части Африки, 10 из Евразии, 9 произрастают на Мадагаскаре. \n",
    "\"\"\""
   ]
  },
  {
   "cell_type": "code",
   "execution_count": 11,
   "id": "1d830228-2c80-4dae-9324-db051d37fffd",
   "metadata": {},
   "outputs": [
    {
     "name": "stderr",
     "output_type": "stream",
     "text": [
      "Restoring states from the checkpoint path at /home/alidar/MIPT/punctation_restoration/checkpoints/1pgs7z8i/last.ckpt\n",
      "Loaded model weights from checkpoint at /home/alidar/MIPT/punctation_restoration/checkpoints/1pgs7z8i/last.ckpt\n"
     ]
    },
    {
     "data": {
      "application/vnd.jupyter.widget-view+json": {
       "model_id": "e2d01d300b40461992d8c76d706800ad",
       "version_major": 2,
       "version_minor": 0
      },
      "text/plain": [
       "Predicting: 0it [00:00, ?it/s]"
      ]
     },
     "metadata": {},
     "output_type": "display_data"
    },
    {
     "name": "stdout",
     "output_type": "stream",
     "text": [
      "\n",
      "Оригинал:\n",
      "\n",
      "Шпажник, или Гладиóлус (лат. Gladíolus) — род многолетних клубнелуковичных растений семейства Ирисовые (Iridaceae). Латинское (и русское тоже) название произошло от лат. gladius — «меч» и связано с тем, что листья гладиолуса по форме напоминают шпаги. Природный ареал — тропические и субтропические районы Африки, Средиземноморья, Средние Европа и Азия, Западная Сибирь. Род включает около 280 видов, из которых 163 происходят из южной части Африки, 10 из Евразии, 9 произрастают на Мадагаскаре. \n",
      "\n",
      "Результат:\n",
      "Шпажник или гладилс (Лат (Gladolus )Род многолетних клубнелуковичных растений семейства ирисовые Iridaceae Латинское и русское тоже название произошло от Лат (Gladius )меч и связано с тем, что листья гладиолуса по форме напоминают шпаги, природный ареал, тропические и субтропические районы Африки, Средиземноморья, Средние Европа и Азия. Западная Сибирь. Род включает около 280 видов из которых 163 происходят из южной части Африки 10 из Евразии. 9 произрастают на Мадагаскаре. \n"
     ]
    }
   ],
   "source": [
    "dataset = LentaSet([text], tokenizer, SEQUENCE_LEN, AUGMENT_RATE, is_train=True)\n",
    "dataloader = DataLoader(dataset, batch_size=1, shuffle=False, num_workers=NUM_WORKERS)\n",
    "result = trainer.predict(model=lit_model, dataloaders=dataloader, ckpt_path=CKPT_PATH)[0]\n",
    "\n",
    "print()\n",
    "print(\"Оригинал:\")\n",
    "print(text)\n",
    "print(\"Результат:\")\n",
    "print(result)"
   ]
  },
  {
   "cell_type": "code",
   "execution_count": null,
   "id": "54bc49ba-e75c-40bf-bace-721461b2c9aa",
   "metadata": {},
   "outputs": [],
   "source": []
  },
  {
   "cell_type": "code",
   "execution_count": null,
   "id": "01b703b1-4b34-4fc2-b336-9b6a63d8d535",
   "metadata": {},
   "outputs": [],
   "source": []
  },
  {
   "cell_type": "code",
   "execution_count": null,
   "id": "4e02bec0-500e-48c3-b016-9a08277a8e46",
   "metadata": {},
   "outputs": [],
   "source": []
  }
 ],
 "metadata": {
  "kernelspec": {
   "display_name": "Python 3 (ipykernel)",
   "language": "python",
   "name": "python3"
  },
  "language_info": {
   "codemirror_mode": {
    "name": "ipython",
    "version": 3
   },
   "file_extension": ".py",
   "mimetype": "text/x-python",
   "name": "python",
   "nbconvert_exporter": "python",
   "pygments_lexer": "ipython3",
   "version": "3.8.10"
  }
 },
 "nbformat": 4,
 "nbformat_minor": 5
}
